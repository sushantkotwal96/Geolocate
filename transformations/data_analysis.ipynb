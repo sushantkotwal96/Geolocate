{
 "cells": [
  {
   "cell_type": "code",
   "execution_count": 39,
   "metadata": {},
   "outputs": [],
   "source": [
    "import numpy as np\n",
    "import pandas as pd"
   ]
  },
  {
   "cell_type": "code",
   "execution_count": 49,
   "metadata": {},
   "outputs": [],
   "source": [
    "mufc = pd.read_csv('../resources/csv/plclubs/Manchester United.csv')"
   ]
  },
  {
   "cell_type": "code",
   "execution_count": 50,
   "metadata": {},
   "outputs": [
    {
     "data": {
      "text/plain": [
       "(50, 209)"
      ]
     },
     "execution_count": 50,
     "metadata": {},
     "output_type": "execute_result"
    }
   ],
   "source": [
    "mufc.shape"
   ]
  },
  {
   "cell_type": "code",
   "execution_count": 51,
   "metadata": {},
   "outputs": [],
   "source": [
    "def dropping_cols(df):\n",
    "\n",
    "    df.dropna(axis=1, inplace=True, how='all') # drop cols with all NANs\n",
    "    \n",
    "    for column in df.columns:\n",
    "        if \"in_reply_to\" in column:\n",
    "            df.drop(column, inplace=True, axis = 1)\n",
    "        elif \"user.entities\" in column:\n",
    "            df.drop(column, inplace=True, axis = 1)\n",
    "        elif \"profile\" in column:\n",
    "            df.drop(column, inplace=True, axis = 1)\n",
    "        elif \"quoted_status\" in column:\n",
    "            df.drop(column, inplace=True, axis = 1)\n",
    "        elif \"withheld_in_countries\" in column:\n",
    "            df.drop(column, inplace=True, axis = 1)\n",
    "        elif \"id_str\" in column:\n",
    "            df.drop(column, inplace=True, axis = 1)\n",
    "        elif \"is_translator\" in column:\n",
    "            df.drop(column, inplace=True, axis = 1)\n",
    "        elif \"is_translation_enabled\" in column:\n",
    "            df.drop(column, inplace=True, axis = 1)\n",
    "        elif \"translator_type\" in column:\n",
    "            df.drop(column, inplace=True, axis = 1)\n",
    "    \n",
    "    return df"
   ]
  },
  {
   "cell_type": "code",
   "execution_count": 52,
   "metadata": {},
   "outputs": [],
   "source": [
    "mufc_n = mufc.copy()\n",
    "mufc_n = dropping_cols(mufc_n)"
   ]
  },
  {
   "cell_type": "code",
   "execution_count": 53,
   "metadata": {},
   "outputs": [
    {
     "name": "stdout",
     "output_type": "stream",
     "text": [
      "(50, 209) (50, 69)\n"
     ]
    }
   ],
   "source": [
    "print(mufc.shape, mufc_n.shape)"
   ]
  },
  {
   "cell_type": "code",
   "execution_count": 59,
   "metadata": {},
   "outputs": [],
   "source": [
    "dropped_cols = list(set(mufc.columns) - set(mufc_n.columns)) # saved under resources\\text\\dropped_cols.txt"
   ]
  },
  {
   "cell_type": "code",
   "execution_count": 37,
   "metadata": {},
   "outputs": [],
   "source": [
    "my_list = mufc.columns.values.tolist()"
   ]
  }
 ],
 "metadata": {
  "kernelspec": {
   "display_name": "venv",
   "language": "python",
   "name": "python3"
  },
  "language_info": {
   "codemirror_mode": {
    "name": "ipython",
    "version": 3
   },
   "file_extension": ".py",
   "mimetype": "text/x-python",
   "name": "python",
   "nbconvert_exporter": "python",
   "pygments_lexer": "ipython3",
   "version": "3.9.0"
  },
  "orig_nbformat": 4,
  "vscode": {
   "interpreter": {
    "hash": "59bcb7b3312e3bce6e077a81d2d71fe16a4ad4a889bc39e6c6f085dba39ea67f"
   }
  }
 },
 "nbformat": 4,
 "nbformat_minor": 2
}
